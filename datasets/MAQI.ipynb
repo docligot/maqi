{
 "cells": [
  {
   "cell_type": "code",
   "execution_count": 2,
   "metadata": {},
   "outputs": [],
   "source": [
    "import pandas as pd"
   ]
  },
  {
   "cell_type": "code",
   "execution_count": 5,
   "metadata": {},
   "outputs": [],
   "source": [
    "no2_region = pd.read_csv(\"ARMM.csv\")"
   ]
  },
  {
   "cell_type": "code",
   "execution_count": 6,
   "metadata": {},
   "outputs": [
    {
     "data": {
      "text/plain": [
       "<bound method NDFrame.head of                       C0/date    C0/min    C0/max   C0/mean  C0/stDev  \\\n",
       "0    2020-06-22T00:00:00.000Z -0.000010  0.000031  0.000005  0.000005   \n",
       "1    2020-06-23T00:00:00.000Z -0.000010  0.000027  0.000008  0.000005   \n",
       "2    2020-06-24T00:00:00.000Z -0.000017  0.000030  0.000008  0.000007   \n",
       "3    2020-06-25T00:00:00.000Z -0.000008  0.000047  0.000009  0.000008   \n",
       "4    2020-06-26T00:00:00.000Z -0.000008  0.000043  0.000011  0.000007   \n",
       "..                        ...       ...       ...       ...       ...   \n",
       "340  2021-06-18T00:00:00.000Z -0.000026  0.000041  0.000009  0.000008   \n",
       "341  2021-06-19T00:00:00.000Z -0.000019  0.000035  0.000006  0.000006   \n",
       "342  2021-06-20T00:00:00.000Z -0.000006  0.000033  0.000007  0.000008   \n",
       "343  2021-06-21T00:00:00.000Z -0.000014  0.000026  0.000006  0.000006   \n",
       "344  2021-06-22T00:00:00.000Z -0.000025  0.000031  0.000006  0.000007   \n",
       "\n",
       "     C0/median        C0/p10    C0/p90  \n",
       "0     0.000005 -1.278480e-06  0.000012  \n",
       "1     0.000008  9.140000e-07  0.000014  \n",
       "2     0.000008 -3.090000e-07  0.000018  \n",
       "3     0.000009 -2.164140e-06  0.000022  \n",
       "4     0.000010  2.214060e-06  0.000021  \n",
       "..         ...           ...       ...  \n",
       "340   0.000009 -3.140000e-07  0.000020  \n",
       "341   0.000006 -1.475060e-06  0.000014  \n",
       "342   0.000006 -2.201490e-06  0.000021  \n",
       "343   0.000006 -8.450000e-07  0.000013  \n",
       "344   0.000006 -2.973200e-06  0.000016  \n",
       "\n",
       "[345 rows x 8 columns]>"
      ]
     },
     "execution_count": 6,
     "metadata": {},
     "output_type": "execute_result"
    }
   ],
   "source": [
    "mobility.head(10)"
   ]
  },
  {
   "cell_type": "code",
   "execution_count": 5,
   "metadata": {},
   "outputs": [],
   "source": [
    "ph_mobility = mobility[mobility.country_region_code == \"PH\"]"
   ]
  },
  {
   "cell_type": "code",
   "execution_count": 6,
   "metadata": {},
   "outputs": [],
   "source": [
    "ph_mobility.to_csv(\"ph_mobility.csv\")"
   ]
  },
  {
   "cell_type": "code",
   "execution_count": null,
   "metadata": {},
   "outputs": [],
   "source": []
  }
 ],
 "metadata": {
  "kernelspec": {
   "display_name": "Python 3",
   "language": "python",
   "name": "python3"
  },
  "language_info": {
   "codemirror_mode": {
    "name": "ipython",
    "version": 3
   },
   "file_extension": ".py",
   "mimetype": "text/x-python",
   "name": "python",
   "nbconvert_exporter": "python",
   "pygments_lexer": "ipython3",
   "version": "3.7.6"
  }
 },
 "nbformat": 4,
 "nbformat_minor": 2
}
