{
 "cells": [
  {
   "cell_type": "code",
   "execution_count": 66,
   "metadata": {
    "pycharm": {
     "is_executing": false
    }
   },
   "outputs": [],
   "source": [
    "import pandas as pd\n",
    "import matplotlib.pyplot as plt\n",
    "import seaborn as sns\n",
    "import numpy as np\n",
    "%matplotlib inline"
   ]
  },
  {
   "cell_type": "code",
   "execution_count": 67,
   "metadata": {
    "pycharm": {
     "name": "#%%\n"
    }
   },
   "outputs": [
    {
     "data": {
      "text/html": [
       "<div>\n",
       "<style scoped>\n",
       "    .dataframe tbody tr th:only-of-type {\n",
       "        vertical-align: middle;\n",
       "    }\n",
       "\n",
       "    .dataframe tbody tr th {\n",
       "        vertical-align: top;\n",
       "    }\n",
       "\n",
       "    .dataframe thead th {\n",
       "        text-align: right;\n",
       "    }\n",
       "</style>\n",
       "<table border=\"1\" class=\"dataframe\">\n",
       "  <thead>\n",
       "    <tr style=\"text-align: right;\">\n",
       "      <th></th>\n",
       "      <th>region</th>\n",
       "      <th>date</th>\n",
       "      <th>retail_and_recreation</th>\n",
       "      <th>grocery_and_pharmacy</th>\n",
       "      <th>parks</th>\n",
       "      <th>transit_stations</th>\n",
       "      <th>workplaces</th>\n",
       "      <th>residential</th>\n",
       "    </tr>\n",
       "  </thead>\n",
       "  <tbody>\n",
       "    <tr>\n",
       "      <th>0</th>\n",
       "      <td>Autonomous Region in Muslim Mindanao</td>\n",
       "      <td>2020-02-15</td>\n",
       "      <td>3.0</td>\n",
       "      <td>-1.0</td>\n",
       "      <td>-1.0</td>\n",
       "      <td>-3.0</td>\n",
       "      <td>8.0</td>\n",
       "      <td>1.0</td>\n",
       "    </tr>\n",
       "    <tr>\n",
       "      <th>1</th>\n",
       "      <td>Autonomous Region in Muslim Mindanao</td>\n",
       "      <td>2020-02-16</td>\n",
       "      <td>-1.0</td>\n",
       "      <td>0.0</td>\n",
       "      <td>-2.0</td>\n",
       "      <td>-2.0</td>\n",
       "      <td>1.0</td>\n",
       "      <td>2.0</td>\n",
       "    </tr>\n",
       "    <tr>\n",
       "      <th>2</th>\n",
       "      <td>Autonomous Region in Muslim Mindanao</td>\n",
       "      <td>2020-02-17</td>\n",
       "      <td>-3.0</td>\n",
       "      <td>-8.0</td>\n",
       "      <td>1.0</td>\n",
       "      <td>-1.0</td>\n",
       "      <td>4.0</td>\n",
       "      <td>1.0</td>\n",
       "    </tr>\n",
       "    <tr>\n",
       "      <th>3</th>\n",
       "      <td>Autonomous Region in Muslim Mindanao</td>\n",
       "      <td>2020-02-18</td>\n",
       "      <td>1.0</td>\n",
       "      <td>-2.0</td>\n",
       "      <td>-1.0</td>\n",
       "      <td>1.0</td>\n",
       "      <td>3.0</td>\n",
       "      <td>0.0</td>\n",
       "    </tr>\n",
       "    <tr>\n",
       "      <th>4</th>\n",
       "      <td>Autonomous Region in Muslim Mindanao</td>\n",
       "      <td>2020-02-19</td>\n",
       "      <td>-5.0</td>\n",
       "      <td>-8.0</td>\n",
       "      <td>-3.0</td>\n",
       "      <td>-4.0</td>\n",
       "      <td>6.0</td>\n",
       "      <td>1.0</td>\n",
       "    </tr>\n",
       "  </tbody>\n",
       "</table>\n",
       "</div>"
      ],
      "text/plain": [
       "                                 region       date  retail_and_recreation  \\\n",
       "0  Autonomous Region in Muslim Mindanao 2020-02-15                    3.0   \n",
       "1  Autonomous Region in Muslim Mindanao 2020-02-16                   -1.0   \n",
       "2  Autonomous Region in Muslim Mindanao 2020-02-17                   -3.0   \n",
       "3  Autonomous Region in Muslim Mindanao 2020-02-18                    1.0   \n",
       "4  Autonomous Region in Muslim Mindanao 2020-02-19                   -5.0   \n",
       "\n",
       "   grocery_and_pharmacy  parks  transit_stations  workplaces  residential  \n",
       "0                  -1.0   -1.0              -3.0         8.0          1.0  \n",
       "1                   0.0   -2.0              -2.0         1.0          2.0  \n",
       "2                  -8.0    1.0              -1.0         4.0          1.0  \n",
       "3                  -2.0   -1.0               1.0         3.0          0.0  \n",
       "4                  -8.0   -3.0              -4.0         6.0          1.0  "
      ]
     },
     "execution_count": 67,
     "metadata": {},
     "output_type": "execute_result"
    }
   ],
   "source": [
    "google_mobility_data = pd.read_excel(\"ph_mobility.xlsx\")\n",
    "google_mobility_data_small_df = google_mobility_data[[\n",
    "                                 'sub_region_1',\n",
    "                                 'date',\n",
    "                                 'retail_and_recreation_percent_change_from_baseline',\n",
    "                                 'grocery_and_pharmacy_percent_change_from_baseline', \n",
    "                                 'parks_percent_change_from_baseline',\n",
    "                                 'transit_stations_percent_change_from_baseline',\n",
    "                                 'workplaces_percent_change_from_baseline',\n",
    "                                 'residential_percent_change_from_baseline',\n",
    "                                ]]\n",
    "google_mobility_data_small_df = google_mobility_data_small_df.rename(columns={\n",
    "                                 \"sub_region_1\":\"region\",\n",
    "                                 \"date\":\"date\",\n",
    "                                 \"retail_and_recreation_percent_change_from_baseline\":\"retail_and_recreation\",\n",
    "                                 \"grocery_and_pharmacy_percent_change_from_baseline\":\"grocery_and_pharmacy\", \n",
    "                                 \"parks_percent_change_from_baseline\":\"parks\",\n",
    "                                 \"transit_stations_percent_change_from_baseline\":\"transit_stations\",\n",
    "                                 \"workplaces_percent_change_from_baseline\":\"workplaces\",\n",
    "                                 \"residential_percent_change_from_baseline\":\"residential\",\n",
    "                                                    })\n",
    "google_mobility_data_small_df = google_mobility_data_small_df.dropna(axis=0)\n",
    "google_mobility_data_small_df = google_mobility_data_small_df.reset_index(drop=True)\n",
    "\n",
    "google_mobility_data_small_df.head()"
   ]
  },
  {
   "cell_type": "code",
   "execution_count": 72,
   "metadata": {},
   "outputs": [
    {
     "data": {
      "text/plain": [
       "<AxesSubplot:xlabel='date'>"
      ]
     },
     "execution_count": 72,
     "metadata": {},
     "output_type": "execute_result"
    },
    {
     "data": {
      "image/png": "[encoded data removed]",
      "text/plain": [
       "<Figure size 432x288 with 1 Axes>"
      ]
     },
     "metadata": {
      "needs_background": "light"
     },
     "output_type": "display_data"
    }
   ],
   "source": [
    "#Creating the dataset\n",
    "google_mobility_data_small_df = google_mobility_data_small_df.query(\"region == 'Autonomous Region in Muslim Mindanao'\")\n",
    "\n",
    "sns.lineplot(data=google_mobility_data_small_df, x=\"date\")\n"
   ]
  },
  {
   "cell_type": "code",
   "execution_count": null,
   "metadata": {},
   "outputs": [],
   "source": []
  }
 ],
 "metadata": {
  "kernelspec": {
   "display_name": "Python 3",
   "language": "python",
   "name": "python3"
  },
  "language_info": {
   "codemirror_mode": {
    "name": "ipython",
    "version": 3
   },
   "file_extension": ".py",
   "mimetype": "text/x-python",
   "name": "python",
   "nbconvert_exporter": "python",
   "pygments_lexer": "ipython3",
   "version": "3.6.4"
  },
  "pycharm": {
   "stem_cell": {
    "cell_type": "raw",
    "metadata": {
     "collapsed": false
    },
    "source": []
   }
  }
 },
 "nbformat": 4,
 "nbformat_minor": 1
}
